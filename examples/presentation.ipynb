{
 "cells": [
  {
   "cell_type": "markdown",
   "metadata": {
    "pycharm": {
     "name": "#%% md\n"
    }
   },
   "source": [
    "$ \\newcommand{\\myvector}[1]{\\mymatrix{c}{#1}} $\n",
    "$ \\newcommand{\\ket}[1]{|#1\\rangle} $\n",
    "$ \\newcommand{\\mymatrix}[2]{\\left( \\begin{array}{#1} #2\\end{array} \\right)} $\n"
   ]
  },
  {
   "cell_type": "markdown",
   "metadata": {
    "pycharm": {
     "name": "#%% md\n"
    }
   },
   "source": [
    "### Quantum compiler\n",
    "#### Introduction\n",
    "We are used to multiple systems, our math works in decimals, our computers work in binary, but everything which connects those number systems is deterministic outcome.\n",
    "If we write down '0.5' and flip the paper, then flip it back, we are sure that we will see '0.5'.\n",
    "But what if that is not always true?"
   ]
  },
  {
   "cell_type": "code",
   "execution_count": null,
   "metadata": {},
   "outputs": [],
   "source": [
    "# Imports\n",
    "\n",
    "import sys\n",
    "sys.path.append('..')\n",
    "from matplotlib.patches import Arc\n",
    "from matplotlib.pyplot import text, gca\n",
    "from quantum_compiler.drawing import draw_quantum_state, draw_qbit\n",
    "from quantum_compiler.qbit import QuantumCircuit"
   ]
  },
  {
   "cell_type": "markdown",
   "metadata": {
    "pycharm": {
     "name": "#%% md\n"
    }
   },
   "source": [
    "#### Qubit\n",
    "A qubit (or quantum bit) is the quantum mechanical analogue of a classical bit.\n",
    "In classical computing, the information is encoded in bits, where each bit can have the value zero or one.\n",
    "In quantum computing, the information is encoded in qubits.\n",
    "A qubit is a two-level quantum system where the two basis qubit states are usually written as:\n",
    "$ \\ket{0} = \\myvector{1 \\\\ 0} $ and $ \\ket{1} = \\myvector{0\\\\ 1} $.  \n",
    "\n",
    "Two other states, called orthogonal x-basis states are\n",
    "$ \\ket{+} = \\myvector{\\frac{\\sqrt{2}}{2} \\\\ \\frac{\\sqrt{2}}{2}}$ and\n",
    "$ \\ket{-} = \\myvector{\\frac{\\sqrt{2}}{2} \\\\ \\frac{-\\sqrt{2}}{2}}$"
   ]
  },
  {
   "cell_type": "code",
   "execution_count": null,
   "metadata": {
    "pycharm": {
     "name": "#%%\n"
    }
   },
   "outputs": [],
   "source": [
    "draw_qbit()\n",
    "\n",
    "# Create our first qubit\n",
    "first_qubit = QuantumCircuit(1)\n",
    "# Draw it on plane\n",
    "draw_quantum_state(first_qubit.matrix_representation, name='|0>')"
   ]
  },
  {
   "cell_type": "markdown",
   "metadata": {
    "pycharm": {
     "name": "#%% md\n"
    }
   },
   "source": [
    "#### NOT gate\n",
    "First gate we will talk about is NOT gate, also called Pauli-X gate.\n",
    "It transforms $ \\ket{0} $ to $ \\ket{1} $ and $ \\ket{1} $ to $ \\ket{0} $.\n",
    "Looking at it from drawing-on-plane approach, it is a rotation through $\\pi$ radians around x-axis."
   ]
  },
  {
   "cell_type": "code",
   "execution_count": null,
   "metadata": {
    "pycharm": {
     "name": "#%%\n"
    }
   },
   "outputs": [],
   "source": [
    "draw_qbit()\n",
    "\n",
    "# Draw |0> on plane\n",
    "draw_quantum_state(first_qubit.matrix_representation, name='|0>')\n",
    "\n",
    "# Put not gate on qubit on position 0\n",
    "first_qubit.x(0)\n",
    "\n",
    "# Draw |1> on plane\n",
    "draw_quantum_state(first_qubit.matrix_representation, name='|1>', color='red')\n",
    "gca().add_patch(Arc((0,0),0.4,0.4,angle=0,theta1=0,theta2=90))\n",
    "text(0.21,0.09,'x-gate')\n"
   ]
  },
  {
   "cell_type": "markdown",
   "metadata": {
    "pycharm": {
     "name": "#%% md\n"
    }
   },
   "source": [
    "#### Superposition\n",
    "Qubits can be in a superposition of both basic states $ \\ket{0} $ and $ \\ket{1} $.\n",
    "When a qubit is measured (to be more precise: only observables can be measured), it will collapse to one of its eigenstates, and the measured value will reflect that state.\n",
    "For example, when a qubit is in a superposition state of equal weights, a measurement will make it collapse to one of its two basis states $ \\ket{0} $ and $ \\ket{1} $ with an equal probability of 50%.\n",
    "$ \\ket{0} $ is the state that when measured, and therefore collapsed, will always give the result 0.\n",
    "Similarly, $ \\ket{1} $ will always convert to 1.\n",
    "\n",
    "#### Perfect coin flip\n",
    "An example quantum operator for quantum coin-flipping is Hadamard.\n",
    "It puts our eigenstate qubit ($ \\ket{1} $ or $ \\ket{0} $) into 50/50 position that can be determined only by doing measurement.\n",
    "So until we do not measure it, we cannot be sure what the outcome will be.\n",
    "If we look at states transformations, it goes this way:  \n",
    "$ \\ket{0} $ into $ \\ket{+} $ into $ \\ket{0} $  \n",
    "$ \\ket{1} $ into $ \\ket{-} $ into $ \\ket{1} $"
   ]
  },
  {
   "cell_type": "code",
   "execution_count": null,
   "metadata": {
    "pycharm": {
     "name": "#%%\n"
    }
   },
   "outputs": [],
   "source": [
    "from collections import Counter\n",
    "\n",
    "runs = 1000\n",
    "# Reinitialize new qbit for clearing state\n"
    "first_qubit = QuantumCircuit(1)\n",
    "# Prepare plane\n",
    "draw_qbit()\n",
    "\n",
    "# Draw current state (|0>)\n",
    "draw_quantum_state(first_qubit.matrix_representation, name='|0>', color=\"red\")\n",
    "# Use Hadamards gate on our qubit\n",
    "first_qubit.h(0)\n",
    "# Watch the outcome\n",
    "draw_quantum_state(first_qubit.matrix_representation, name='|+>', color=\"black\")\n",
    "\n",
    "counter_of_states = Counter([first_qubit.measure() for _ in range(runs)])\n",
    "print(f'After using h-gate and running loop {runs} times, we got those values {counter_of_states}')"
   ]
  },
  {
   "cell_type": "markdown",
   "source": [
    "#### But how does it work in real life?\n",
    "This is the most fun part. Long story short - no one knows, but first let me try to explain what we know.  \n",
    "First let us take a look how laboratory setup looks like.\n",
    "<img src=\"./images/photon1.jpg\" width=\"40%\">  \n",
    "So after putting in a perfect beam splitter (50/50), we can expect (almost) perfect split between.\n",
    "<img src=\"./images/photon2.jpg\" width=\"40%\">  \n",
    "Ok, so now we add another perfect beam splitter (50/50) and two mirrors to make it possible.\n",
    "<img src=\"./images/photon3.jpg\" width=\"40%\">  \n",
    "Our logical brains can guess that is an easy one, it is still 50/50, isn't it?\n"
   ],
   "metadata": {
    "collapsed": false,
    "pycharm": {
     "name": "#%% md\n"
    }
   }
  },
  {
   "cell_type": "code",
   "execution_count": null,
   "outputs": [],
   "source": [
    "# Lets find it out in code!\n",
    "# Previously qubit was in |-> state so we use on it another h-gate, as a simulation of placing beam-splitter\n",
    "first_qubit.h(0)\n",
    "# ... and we measure\n",
    "counter_of_states = Counter([first_qubit.measure() for _ in range(runs)])\n",
    "print(f'After using h-gate and running loop {runs} times, we got those values {counter_of_states}')"
   ],
   "metadata": {
    "collapsed": false,
    "pycharm": {
     "name": "#%%\n"
    }
   }
  },
  {
   "cell_type": "markdown",
   "source": [
    "<img src=\"./images/photon4.jpg\" width=\"40%\">\n",
    "And here comes a surprise!\n",
    "It is not that simple, but hope that your curiosity will make your way towards great stuff that quantum computing has to offer!"
   ],
   "metadata": {
    "collapsed": false,
    "pycharm": {
     "name": "#%% md\n"
    }
   }
  },
  {
   "cell_type": "markdown",
   "source": [
    "Sources:  \n",
    "https://gitlab.com/qkitchen/basics-of-quantum-computing  \n",
    "https://quantum-inspire.com  \n",
    "https://en.wikipedia.org/wiki/Qubit  \n",
    "https://qworld.lu.lv/\n",
    "\n",
    "---\n",
    "\n",
    "Authors:  \n",
    "Jakub Dębski  \n",
    "Bazyli Polednia"
   ],
   "metadata": {
    "collapsed": false,
    "pycharm": {
     "name": "#%% md\n"
    }
   }
  }
 ],
 "metadata": {
  "kernelspec": {
   "display_name": "Python 3",
   "language": "python",
   "name": "python3"
  },
  "language_info": {
   "codemirror_mode": {
    "name": "ipython",
    "version": 3
   },
   "file_extension": ".py",
   "mimetype": "text/x-python",
   "name": "python",
   "nbconvert_exporter": "python",
   "pygments_lexer": "ipython3",
   "version": "3.9.0+"
  },
  "pycharm": {
   "stem_cell": {
    "cell_type": "raw",
    "source": [],
    "metadata": {
     "collapsed": false
    }
   }
  }
 },
 "nbformat": 4,
 "nbformat_minor": 1
}